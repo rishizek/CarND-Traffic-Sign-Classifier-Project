{
 "cells": [
  {
   "cell_type": "markdown",
   "metadata": {},
   "source": [
    "# Self-Driving Car Engineer Nanodegree\n",
    "\n",
    "## Deep Learning\n",
    "\n",
    "## Project: Build a Traffic Sign Recognition Classifier\n",
    "\n",
    "In this notebook, a template is provided for you to implement your functionality in stages which is required to successfully complete this project. If additional code is required that cannot be included in the notebook, be sure that the Python code is successfully imported and included in your submission, if necessary. Sections that begin with **'Implementation'** in the header indicate where you should begin your implementation for your project. Note that some sections of implementation are optional, and will be marked with **'Optional'** in the header.\n",
    "\n",
    "In addition to implementing code, there will be questions that you must answer which relate to the project and your implementation. Each section where you will answer a question is preceded by a **'Question'** header. Carefully read each question and provide thorough answers in the following text boxes that begin with **'Answer:'**. Your project submission will be evaluated based on your answers to each of the questions and the implementation you provide.\n",
    "\n",
    ">**Note:** Code and Markdown cells can be executed using the **Shift + Enter** keyboard shortcut. In addition, Markdown cells can be edited by typically double-clicking the cell to enter edit mode."
   ]
  },
  {
   "cell_type": "markdown",
   "metadata": {},
   "source": [
    "---\n",
    "## Step 0: Load The Data"
   ]
  },
  {
   "cell_type": "code",
   "execution_count": null,
   "metadata": {},
   "outputs": [],
   "source": [
    "# Load pickled data\n",
    "import pickle\n",
    "\n",
    "# TODO: Fill this in based on where you saved the training and testing data\n",
    "\n",
    "training_file = './data/traffic-signs-data/train.p'\n",
    "testing_file = './data/traffic-signs-data/test.p'\n",
    "\n",
    "with open(training_file, mode='rb') as f:\n",
    "    train = pickle.load(f)\n",
    "with open(testing_file, mode='rb') as f:\n",
    "    test = pickle.load(f)\n",
    "    \n",
    "X_train, y_train = train['features'], train['labels']\n",
    "X_test, y_test = test['features'], test['labels']\n",
    "is_features_normal = False\n",
    "is_validation_data = False\n",
    "is_additional_data = False"
   ]
  },
  {
   "cell_type": "markdown",
   "metadata": {},
   "source": [
    "---\n",
    "\n",
    "## Step 1: Dataset Summary & Exploration\n",
    "\n",
    "The pickled data is a dictionary with 4 key/value pairs:\n",
    "\n",
    "- `'features'` is a 4D array containing raw pixel data of the traffic sign images, (num examples, width, height, channels).\n",
    "- `'labels'` is a 2D array containing the label/class id of the traffic sign. The file `signnames.csv` contains id -> name mappings for each id.\n",
    "- `'sizes'` is a list containing tuples, (width, height) representing the the original width and height the image.\n",
    "- `'coords'` is a list containing tuples, (x1, y1, x2, y2) representing coordinates of a bounding box around the sign in the image. **THESE COORDINATES ASSUME THE ORIGINAL IMAGE. THE PICKLED DATA CONTAINS RESIZED VERSIONS (32 by 32) OF THESE IMAGES**\n",
    "\n",
    "Complete the basic data summary below."
   ]
  },
  {
   "cell_type": "code",
   "execution_count": null,
   "metadata": {},
   "outputs": [],
   "source": [
    "### Replace each question mark with the appropriate value.\n",
    "\n",
    "# TODO: Number of training examples\n",
    "n_train = len(X_train)\n",
    "\n",
    "# TODO: Number of testing examples.\n",
    "n_test = len(X_test)\n",
    "\n",
    "# TODO: What's the shape of an traffic sign image?\n",
    "image_shape = X_train.shape[1:]\n",
    "\n",
    "# TODO: How many unique classes/labels there are in the dataset.\n",
    "n_classes = len(set(y_train))\n",
    "\n",
    "print(\"Number of training examples =\", n_train)\n",
    "print(\"Number of testing examples =\", n_test)\n",
    "print(\"Image data shape =\", image_shape)\n",
    "print(\"Number of classes =\", n_classes)"
   ]
  },
  {
   "cell_type": "markdown",
   "metadata": {},
   "source": [
    "Visualize the German Traffic Signs Dataset using the pickled file(s). This is open ended, suggestions include: plotting traffic sign images, plotting the count of each sign, etc.\n",
    "\n",
    "The [Matplotlib](http://matplotlib.org/) [examples](http://matplotlib.org/examples/index.html) and [gallery](http://matplotlib.org/gallery.html) pages are a great resource for doing visualizations in Python.\n",
    "\n",
    "**NOTE:** It's recommended you start with something simple first. If you wish to do more, come back to it after you've completed the rest of the sections."
   ]
  },
  {
   "cell_type": "code",
   "execution_count": null,
   "metadata": {},
   "outputs": [],
   "source": [
    "### Data exploration visualization goes here.\n",
    "### Feel free to use as many code cells as needed.\n",
    "import matplotlib.pyplot as plt\n",
    "# Visualizations will be shown in the notebook.\n",
    "%matplotlib inline\n",
    "import random\n",
    "import numpy as np\n",
    "from scipy.ndimage import zoom\n",
    "import os"
   ]
  },
  {
   "cell_type": "markdown",
   "metadata": {},
   "source": [
    "### Display one random traffic sign for each class"
   ]
  },
  {
   "cell_type": "code",
   "execution_count": null,
   "metadata": {},
   "outputs": [],
   "source": [
    "n_cols = 10\n",
    "n_rows = int(np.ceil(n_classes / n_cols))\n",
    "f, axarr = plt.subplots(n_rows, n_cols, figsize=(15,8))\n",
    "for i in range(int(n_rows * n_cols)):\n",
    "    ax = axarr[i // n_cols][i % n_cols]\n",
    "    if i < n_classes:\n",
    "        index = random.choice(np.where(y_train == i)[0])  #pick random item from class i\n",
    "        image = X_train[index].squeeze()\n",
    "        ax.imshow(image)\n",
    "        ax.set_title(str(i))\n",
    "        ax.axes.get_xaxis().set_visible(False)\n",
    "        ax.axes.get_yaxis().set_visible(False)\n",
    "    else:\n",
    "        ax.axis('off')"
   ]
  },
  {
   "cell_type": "markdown",
   "metadata": {},
   "source": [
    "### Display first 4 traffic signs from each class"
   ]
  },
  {
   "cell_type": "code",
   "execution_count": null,
   "metadata": {},
   "outputs": [],
   "source": [
    "n_cols = 8\n",
    "n_same_items = 4\n",
    "n_rows = int(np.ceil(n_same_items * n_classes / n_cols))\n",
    "f, axarr = plt.subplots(n_rows, n_cols, figsize=(15,40))\n",
    "for i in range(int(n_rows * n_cols / n_same_items)):\n",
    "    offset = i * n_same_items\n",
    "    for j in range(n_same_items):\n",
    "        ax = axarr[(offset+j) // n_cols][(offset+j) % n_cols]\n",
    "        if i < n_classes:\n",
    "                #index = random.choice(np.where(y_train == i)[0])  #pick random item from class i\n",
    "                index = np.where(y_train == i)[0][j]  #pick j-th item in class i\n",
    "                image = X_train[index].squeeze()\n",
    "                ax.imshow(image)\n",
    "                ax.set_title(str(i))\n",
    "                ax.axes.get_xaxis().set_visible(False)\n",
    "                ax.axes.get_yaxis().set_visible(False)\n",
    "        else:\n",
    "            ax.axis('off')"
   ]
  },
  {
   "cell_type": "markdown",
   "metadata": {},
   "source": [
    "As shown above, almost exactly same traffic sign is displaied as different images. This is because the traffic signs are pictured from video strean with different time frame. So we need to be careful when split training data to training and validation set. If we randomly select validation set from the training, we will obtain unexpectedly high validation set accuracy compared to low test set accuracy."
   ]
  },
  {
   "cell_type": "code",
   "execution_count": null,
   "metadata": {},
   "outputs": [],
   "source": [
    "signs, n_signs = np.unique(y_train, return_counts=True)\n",
    "plt.bar(signs, n_signs)\n",
    "plt.title(\"the number of images for each traffic sign\")"
   ]
  },
  {
   "cell_type": "markdown",
   "metadata": {},
   "source": [
    "----\n",
    "\n",
    "## Step 2: Design and Test a Model Architecture\n",
    "\n",
    "Design and implement a deep learning model that learns to recognize traffic signs. Train and test your model on the [German Traffic Sign Dataset](http://benchmark.ini.rub.de/?section=gtsrb&subsection=dataset).\n",
    "\n",
    "There are various aspects to consider when thinking about this problem:\n",
    "\n",
    "- Neural network architecture\n",
    "- Play around preprocessing techniques (normalization, rgb to grayscale, etc)\n",
    "- Number of examples per label (some have more than others).\n",
    "- Generate fake data.\n",
    "\n",
    "Here is an example of a [published baseline model on this problem](http://yann.lecun.com/exdb/publis/pdf/sermanet-ijcnn-11.pdf). It's not required to be familiar with the approach used in the paper but, it's good practice to try to read papers like these.\n",
    "\n",
    "**NOTE:** The LeNet-5 implementation shown in the [classroom](https://classroom.udacity.com/nanodegrees/nd013/parts/fbf77062-5703-404e-b60c-95b78b2f3f9e/modules/6df7ae49-c61c-4bb2-a23e-6527e69209ec/lessons/601ae704-1035-4287-8b11-e2c2716217ad/concepts/d4aca031-508f-4e0b-b493-e7b706120f81) at the end of the CNN lesson is a solid starting point. You'll have to change the number of classes and possibly the preprocessing, but aside from that it's plug and play!"
   ]
  },
  {
   "cell_type": "markdown",
   "metadata": {},
   "source": [
    "### Implementation\n",
    "\n",
    "Use the code cell (or multiple code cells, if necessary) to implement the first step of your project. Once you have completed your implementation and are satisfied with the results, be sure to thoroughly answer the questions that follow."
   ]
  },
  {
   "cell_type": "code",
   "execution_count": null,
   "metadata": {},
   "outputs": [],
   "source": [
    "### Preprocess the data here.\n",
    "### Feel free to use as many code cells as needed.\n",
    "# data preprocess is conducted after data split and additional data generation as shown below."
   ]
  },
  {
   "cell_type": "markdown",
   "metadata": {},
   "source": [
    "### Question 1 \n",
    "\n",
    "_Describe how you  preprocessed the data. Why did you choose that technique?_"
   ]
  },
  {
   "cell_type": "markdown",
   "metadata": {},
   "source": [
    "**Answer:**  \n",
    "The feature data for training, validation, and test set are normalized by Min-Max scaling to a range of [0.1, 0.9] to improve the convergence of gradient decent.  The data normalization was intentionally conducted after checkpoint to reduce disk size below, where the data is save as 'uint8' instead of 'float32', which is data type after normalization."
   ]
  },
  {
   "cell_type": "code",
   "execution_count": null,
   "metadata": {},
   "outputs": [],
   "source": [
    "### Generate data additional data (OPTIONAL!)\n",
    "### and split the data into training/validation/testing sets here.\n",
    "### Feel free to use as many code cells as needed."
   ]
  },
  {
   "cell_type": "code",
   "execution_count": null,
   "metadata": {},
   "outputs": [],
   "source": [
    "# Split training datasets for training and validation in order to minimize the mixture of traning and validation data\n",
    "if not is_validation_data:\n",
    "    train_indeces = np.array([]).astype('uint8')\n",
    "    valid_indeces = np.array([]).astype('uint8')\n",
    "    for i in range(n_classes):\n",
    "        indeces = np.where(y_train == i)[0] # select indeces belong to class i\n",
    "        index_thres = int(len(indeces) * 0.95) # choose 95% as threshold\n",
    "        train_indeces = np.concatenate([train_indeces, indeces[:index_thres]]) # first 95% in eath class as training\n",
    "        valid_indeces = np.concatenate([valid_indeces, indeces[index_thres:]]) # last 5% as validaiton\n",
    "    X_train, X_validation = X_train[train_indeces], X_train[valid_indeces]\n",
    "    y_train, y_validation = y_train[train_indeces], y_train[valid_indeces]\n",
    "    is_validation_data = True\n",
    "len(X_train), len(X_validation), len(X_test)"
   ]
  },
  {
   "cell_type": "code",
   "execution_count": null,
   "metadata": {},
   "outputs": [],
   "source": [
    "def clipped_zoom(img, zoom_factor, **kwargs):\n",
    "    # source http://stackoverflow.com/questions/37119071/scipy-rotate-and-zoom-an-image-without-changing-its-dimensions\n",
    "    from scipy.ndimage import zoom\n",
    "    h, w = img.shape[:2]\n",
    "\n",
    "    # width and height of the zoomed image\n",
    "    zh = int(np.round(zoom_factor * h))\n",
    "    zw = int(np.round(zoom_factor * w))\n",
    "\n",
    "    # for multichannel images we don't want to apply the zoom factor to the RGB\n",
    "    # dimension, so instead we create a tuple of zoom factors, one per array\n",
    "    # dimension, with 1's for any trailing dimensions after the width and height.\n",
    "    zoom_tuple = (zoom_factor,) * 2 + (1,) * (img.ndim - 2)\n",
    "\n",
    "    # zooming out\n",
    "    if zoom_factor < 1:\n",
    "        # bounding box of the clip region within the output array\n",
    "        top = (h - zh) // 2\n",
    "        left = (w - zw) // 2\n",
    "        # zero-padding\n",
    "        out = np.zeros_like(img)\n",
    "        out[top:top+zh, left:left+zw] = zoom(img, zoom_tuple, **kwargs)\n",
    "\n",
    "    # zooming in\n",
    "    elif zoom_factor > 1:\n",
    "        # bounding box of the clip region within the input array\n",
    "        top = (zh - h) // 2\n",
    "        left = (zw - w) // 2\n",
    "        out = zoom(img[top:top+zh, left:left+zw], zoom_tuple, **kwargs)\n",
    "        # `out` might still be slightly larger than `img` due to rounding, so\n",
    "        # trim off any extra pixels at the edges\n",
    "        trim_top = ((out.shape[0] - h) // 2)\n",
    "        trim_left = ((out.shape[1] - w) // 2)\n",
    "        out = out[trim_top:trim_top+h, trim_left:trim_left+w]\n",
    "\n",
    "    # if zoom_factor == 1, just return the input array\n",
    "    else:\n",
    "        out = img\n",
    "    return out"
   ]
  },
  {
   "cell_type": "code",
   "execution_count": null,
   "metadata": {},
   "outputs": [],
   "source": [
    "from scipy.ndimage import shift\n",
    "from scipy.ndimage import rotate\n",
    "\n",
    "# perturb image to genarate additional data\n",
    "def perturb_image(img, delta_pixel_range=(-2,2), scale_ratio_range=(0.9,1.1), rotation_range=(-15,15)):\n",
    "    # translation\n",
    "    dx = random.randint(*delta_pixel_range)\n",
    "    dy = random.randint(*delta_pixel_range)\n",
    "    shifted_img = shift(img, (dx,dy,0))\n",
    "\n",
    "    # scaling\n",
    "    dscale = random.uniform(*scale_ratio_range)\n",
    "    zoomed_img = clipped_zoom(shifted_img, dscale)\n",
    "    \n",
    "    # rotation\n",
    "    dangle = random.uniform(*rotation_range)\n",
    "    res = rotate(zoomed_img, dangle, reshape=False)\n",
    "    return res"
   ]
  },
  {
   "cell_type": "markdown",
   "metadata": {},
   "source": [
    "### sample pertubed image"
   ]
  },
  {
   "cell_type": "code",
   "execution_count": null,
   "metadata": {},
   "outputs": [],
   "source": [
    "image1 = X_train[400].squeeze()\n",
    "fig, ax = plt.subplots(1, 2)\n",
    "ax[0].imshow(image1)\n",
    "ax[1].imshow(perturb_image(image1))"
   ]
  },
  {
   "cell_type": "code",
   "execution_count": null,
   "metadata": {},
   "outputs": [],
   "source": [
    "# Split training datasets for training and validation in order to minimize the mixture of traning and validation data\n",
    "if not is_additional_data:\n",
    "    n_new_data_for_each_image = 4\n",
    "    X_train_new = []\n",
    "    y_train_new = []\n",
    "    for index in range(len(X_train)):\n",
    "        # original data\n",
    "        X_train_new.append(X_train[index])\n",
    "        y_train_new.append(y_train[index])\n",
    "        # additional data\n",
    "        for i in range(n_new_data_for_each_image):\n",
    "            X_train_new.append(perturb_image(X_train[index]))\n",
    "            y_train_new.append(y_train[index])\n",
    "    X_train = np.array(X_train_new)\n",
    "    y_train = np.array(y_train_new) \n",
    "    del X_train_new; del y_train_new\n",
    "    is_additional_data = True\n",
    "    \n",
    "len(X_train)"
   ]
  },
  {
   "cell_type": "code",
   "execution_count": null,
   "metadata": {},
   "outputs": [],
   "source": [
    "X_train.shape, y_train.shape"
   ]
  },
  {
   "cell_type": "code",
   "execution_count": null,
   "metadata": {},
   "outputs": [],
   "source": [
    "# Save the data for easy access\n",
    "# we'll save the data before normalization to save space (after normalization dtype for X_train will be float32 from uint8 and data size increases)\n",
    "import os\n",
    "pickle_file = 'data/traffic-signs-data_train_validation_2.pickle'\n",
    "if not os.path.isfile(pickle_file):\n",
    "    print('Saving data to pickle file...')\n",
    "    try:\n",
    "        with open(pickle_file, 'wb') as pfile:\n",
    "            pickle.dump(\n",
    "                {\n",
    "                    'X_train': X_train,\n",
    "                    'y_train': y_train,\n",
    "                    'X_validation': X_validation,\n",
    "                    'y_validation': y_validation,\n",
    "                },\n",
    "                pfile, pickle.HIGHEST_PROTOCOL)\n",
    "    except Exception as e:\n",
    "        print('Unable to save data to', pickle_file, ':', e)\n",
    "        raise\n",
    "\n",
    "print('Data cached in pickle file.')"
   ]
  },
  {
   "cell_type": "markdown",
   "metadata": {},
   "source": [
    "### sample pertubed images"
   ]
  },
  {
   "cell_type": "code",
   "execution_count": null,
   "metadata": {},
   "outputs": [],
   "source": [
    "n_cols = 8\n",
    "n_same_items = 4\n",
    "n_rows = int(np.ceil(n_same_items * n_classes / n_cols))\n",
    "f, axarr = plt.subplots(n_rows, n_cols, figsize=(15,40))\n",
    "for i in range(int(n_rows * n_cols / n_same_items)):\n",
    "    offset = i * n_same_items\n",
    "    for j in range(n_same_items):\n",
    "        ax = axarr[(offset+j) // n_cols][(offset+j) % n_cols]\n",
    "        if i < n_classes:\n",
    "                #index = random.choice(np.where(y_train == i)[0])  #pick random item from class i\n",
    "                index = np.where(y_train == i)[0][j]  #pick j-th item in class i\n",
    "                image = X_train[index].squeeze()\n",
    "                ax.imshow(image)\n",
    "                ax.set_title(str(i))\n",
    "                ax.axes.get_xaxis().set_visible(False)\n",
    "                ax.axes.get_yaxis().set_visible(False)\n",
    "        else:\n",
    "            ax.axis('off')"
   ]
  },
  {
   "cell_type": "code",
   "execution_count": null,
   "metadata": {},
   "outputs": [],
   "source": [
    "# the training data set increased 5 times more than before"
   ]
  },
  {
   "cell_type": "code",
   "execution_count": null,
   "metadata": {},
   "outputs": [],
   "source": [
    "signs, n_signs = np.unique(y_train, return_counts=True)\n",
    "plt.bar(signs, n_signs)\n",
    "plt.title(\"the number of images for each traffic sign\")"
   ]
  },
  {
   "cell_type": "markdown",
   "metadata": {},
   "source": [
    "## Checkpoint"
   ]
  },
  {
   "cell_type": "markdown",
   "metadata": {},
   "source": [
    "We can start from here, once new training and validation data are generated and saved."
   ]
  },
  {
   "cell_type": "code",
   "execution_count": null,
   "metadata": {},
   "outputs": [],
   "source": [
    "# Load pickled data\n",
    "import pickle\n",
    "\n",
    "training_validation_file = './data/traffic-signs-data_train_validation_2.pickle'\n",
    "testing_file = './data/traffic-signs-data/test.p'\n",
    "\n",
    "with open(training_validation_file, mode='rb') as f:\n",
    "    train_validation = pickle.load(f)\n",
    "with open(testing_file, mode='rb') as f:\n",
    "    test = pickle.load(f)\n",
    "    \n",
    "X_train, y_train = train_validation['X_train'], train_validation['y_train']\n",
    "X_validation, y_validation = train_validation['X_validation'], train_validation['y_validation']\n",
    "X_test, y_test = test['features'], test['labels']\n",
    "del train_validation\n",
    "is_features_normal = False\n",
    "is_validation_data = True\n",
    "is_additional_data = True"
   ]
  },
  {
   "cell_type": "code",
   "execution_count": null,
   "metadata": {},
   "outputs": [],
   "source": [
    "def normalize_image(image_data, dtype='float32'):\n",
    "    \"\"\"\n",
    "    Normalize the image data with Min-Max scaling to a range of [0.1, 0.9]\n",
    "    :param image_data: The image data to be normalized\n",
    "    :return: Normalized image data\n",
    "    \"\"\"\n",
    "    # TODO: Implement Min-Max scaling for  image data\n",
    "    a = 0.1; b = 0.9\n",
    "    X_min = 0; X_max = 255\n",
    "    res = a + (image_data - X_min) * (b - a) / (X_max - X_min)\n",
    "    return res.astype(dtype)"
   ]
  },
  {
   "cell_type": "code",
   "execution_count": null,
   "metadata": {},
   "outputs": [],
   "source": [
    "if not is_features_normal:\n",
    "    X_train = normalize_image(X_train)\n",
    "    X_validation = normalize_image(X_validation)\n",
    "    X_test = normalize_image(X_test)\n",
    "    is_features_normal = True"
   ]
  },
  {
   "cell_type": "markdown",
   "metadata": {},
   "source": [
    "### Question 2\n",
    "\n",
    "_Describe how you set up the training, validation and testing data for your model. **Optional**: If you generated additional data, how did you generate the data? Why did you generate the data? What are the differences in the new dataset (with generated data) from the original dataset?_"
   ]
  },
  {
   "cell_type": "markdown",
   "metadata": {},
   "source": [
    "**Answer:**  \n",
    "First, I split the training data to training and validation sets. This was carefully conducted because if one selects select validation randomly, validation data set would be very similar to training set due to the sequential similarity of training images. To avoid this I deliberately split training data so that the first 95% to be training and last 5% to be validation set for each class.  \n",
    "Secondly, I generated 4 additional perturbed data for each item, and then the number of training set became 5 times more than the original. As result the test set accuracy improved to 94% from 91% with naive LeNet-5.  The perturbed images are created by adding (i) translation to a range of [-2, 2] pixel, (ii) scaling to range of [0.9, 1.1] times, and rotation to range of [-15, 15] degree randomly to original image for 4 times.  \n",
    "Then, new dataset is saved as the pickle format. To create checkpoint. \n",
    "After that, the feature data for training, validation, and test set are normalized by Min-Max scaling to a range of [0.1, 0.9]. "
   ]
  },
  {
   "cell_type": "code",
   "execution_count": null,
   "metadata": {},
   "outputs": [],
   "source": [
    "### Define your architecture here.\n",
    "### Feel free to use as many code cells as needed."
   ]
  },
  {
   "cell_type": "code",
   "execution_count": null,
   "metadata": {},
   "outputs": [],
   "source": [
    "import tensorflow as tf\n",
    "import math\n",
    "from tqdm import tqdm\n",
    "from sklearn.utils import shuffle"
   ]
  },
  {
   "cell_type": "code",
   "execution_count": null,
   "metadata": {},
   "outputs": [],
   "source": [
    "### Implement LeNet-5\n",
    "from tensorflow.contrib.layers import flatten\n",
    "\n",
    "def LeNet(x):    \n",
    "    # Hyperparameters\n",
    "    mu = 0\n",
    "    sigma = 0.1\n",
    "    \n",
    "    #from IPython.core.debugger import Tracer; Tracer()()\n",
    "\n",
    "    # Layer 1: Convolutional. Input = 32x32x3. Output = 28x28x6.\n",
    "    W1 = tf.Variable(tf.truncated_normal([5, 5, 3, 6], mean=mu, stddev=sigma))\n",
    "    b1 = tf.Variable(tf.zeros(6))\n",
    "    layer1 = tf.nn.bias_add(tf.nn.conv2d(x, W1, strides=[1, 1, 1, 1], padding='VALID'), b1)\n",
    "\n",
    "    # Activation.\n",
    "    layer1 = tf.nn.relu(layer1)\n",
    "\n",
    "    # Pooling. Input = 28x28x6. Output = 14x14x6.\n",
    "    layer1 = tf.nn.max_pool(layer1, ksize=[1, 2, 2, 1], strides=[1, 2, 2, 1], padding='SAME')\n",
    "\n",
    "    # Layer 2: Convolutional. Output = 10x10x16.\n",
    "    W2 = tf.Variable(tf.truncated_normal([5, 5, 6, 16], mean=mu, stddev=sigma))\n",
    "    b2 = tf.Variable(tf.zeros(16))\n",
    "    layer2 = tf.nn.bias_add(tf.nn.conv2d(layer1, W2, strides=[1, 1, 1, 1], padding='VALID'),\n",
    "                                             b2)\n",
    "    \n",
    "    # Activation.\n",
    "    layer2 = tf.nn.relu(layer2)\n",
    "\n",
    "    # Pooling. Input = 10x10x16. Output = 5x5x16.\n",
    "    layer2 = tf.nn.max_pool(layer2, ksize=[1, 2, 2, 1], strides=[1, 2, 2, 1], padding='SAME')\n",
    "\n",
    "    # Flatten. Input = 5x5x16. Output = 400.\n",
    "    layer2 = flatten(layer2)\n",
    "    \n",
    "    # Layer 3: Fully Connected. Input = 400. Output = 120.\n",
    "    W3 = tf.Variable(tf.truncated_normal([400, 120], mean=mu, stddev=sigma))\n",
    "    b3 = tf.Variable(tf.zeros(120))\n",
    "    layer3 = tf.add(tf.matmul(layer2, W3), b3)\n",
    "    \n",
    "    # Activation.\n",
    "    layer3 = tf.nn.relu(layer3)\n",
    "\n",
    "    # Layer 4: Fully Connected. Input = 120. Output = 84.\n",
    "    W4 = tf.Variable(tf.truncated_normal([120, 84], mean=mu, stddev=sigma))\n",
    "    b4 = tf.Variable(tf.zeros(84))\n",
    "    layer4 = tf.add(tf.matmul(layer3, W4), b4)\n",
    "    \n",
    "    # Activation.\n",
    "    layer4 = tf.nn.relu(layer4)\n",
    "\n",
    "    # Layer 5: Fully Connected. Input = 84. Output = n_classes.\n",
    "    W5 = tf.Variable(tf.truncated_normal([84, n_classes], mean=mu, stddev=sigma))\n",
    "    b5 = tf.Variable(tf.zeros(n_classes))\n",
    "    logits = tf.add(tf.matmul(layer4, W5), b5)    \n",
    "\n",
    "    return logits"
   ]
  },
  {
   "cell_type": "code",
   "execution_count": null,
   "metadata": {},
   "outputs": [],
   "source": [
    "tf.reset_default_graph()"
   ]
  },
  {
   "cell_type": "code",
   "execution_count": null,
   "metadata": {},
   "outputs": [],
   "source": [
    "x = tf.placeholder(tf.float32, (None, 32, 32, 3))\n",
    "y = tf.placeholder(tf.int32, (None))\n",
    "one_hot_y = tf.one_hot(y, n_classes)"
   ]
  },
  {
   "cell_type": "code",
   "execution_count": null,
   "metadata": {},
   "outputs": [],
   "source": [
    "rate = 0.001\n",
    "\n",
    "logits = LeNet(x)\n",
    "cross_entropy = tf.nn.softmax_cross_entropy_with_logits(logits, one_hot_y)\n",
    "loss_operation = tf.reduce_mean(cross_entropy)\n",
    "optimizer = tf.train.AdamOptimizer(learning_rate = rate)\n",
    "training_operation = optimizer.minimize(loss_operation)"
   ]
  },
  {
   "cell_type": "code",
   "execution_count": null,
   "metadata": {},
   "outputs": [],
   "source": [
    "correct_prediction = tf.equal(tf.argmax(logits, 1), tf.argmax(one_hot_y, 1))\n",
    "accuracy_operation = tf.reduce_mean(tf.cast(correct_prediction, tf.float32))\n",
    "saver = tf.train.Saver()\n",
    "\n",
    "def evaluate(X_data, y_data):\n",
    "    num_examples = len(X_data)\n",
    "    total_accuracy = 0\n",
    "    sess = tf.get_default_session()\n",
    "    for offset in range(0, num_examples, BATCH_SIZE):\n",
    "        batch_x, batch_y = X_data[offset:offset+BATCH_SIZE], y_data[offset:offset+BATCH_SIZE]\n",
    "        accuracy = sess.run(accuracy_operation, feed_dict={x: batch_x, y: batch_y})\n",
    "        total_accuracy += (accuracy * len(batch_x))\n",
    "    return total_accuracy / num_examples"
   ]
  },
  {
   "cell_type": "markdown",
   "metadata": {},
   "source": [
    "### Question 3\n",
    "\n",
    "_What does your final architecture look like? (Type of model, layers, sizes, connectivity, etc.)  For reference on how to build a deep neural network using TensorFlow, see [Deep Neural Network in TensorFlow\n",
    "](https://classroom.udacity.com/nanodegrees/nd013/parts/fbf77062-5703-404e-b60c-95b78b2f3f9e/modules/6df7ae49-c61c-4bb2-a23e-6527e69209ec/lessons/b516a270-8600-4f93-a0a3-20dfeabe5da6/concepts/83a3a2a2-a9bd-4b7b-95b0-eb924ab14432) from the classroom._\n"
   ]
  },
  {
   "cell_type": "markdown",
   "metadata": {},
   "source": [
    "**Answer:**  \n",
    "Type of model use: \n",
    "    # LeNet-5.  \n",
    "Layers, sizes, connectivity:\n",
    "    # Layer 1: Convolutional. Input = 32x32x3. Output = 28x28x6.\n",
    "    # Activation: Relu\n",
    "    # Pooling. Input = 28x28x6. Output = 14x14x6.\n",
    "\n",
    "    # Layer 2: Convolutional. Output = 10x10x16.\n",
    "    # Activation: Relu\n",
    "    # Pooling. Input = 10x10x16. Output = 5x5x16.\n",
    "    # Flatten. Input = 5x5x16. Output = 400.\n",
    "\n",
    "    # Layer 3: Fully Connected. Input = 400. Output = 120.\n",
    "    # Activation: Relu\n",
    "    \n",
    "    # Layer 4: Fully Connected. Input = 120. Output = 84.    \n",
    "    # Activation: Relu\n",
    "   \n",
    "    # Layer 5: Fully Connected. Input = 84. Output = 43."
   ]
  },
  {
   "cell_type": "code",
   "execution_count": null,
   "metadata": {},
   "outputs": [],
   "source": [
    "### Train your model here.\n",
    "### Feel free to use as many code cells as needed."
   ]
  },
  {
   "cell_type": "code",
   "execution_count": null,
   "metadata": {},
   "outputs": [],
   "source": [
    "EPOCHS = 60\n",
    "BATCH_SIZE = 64"
   ]
  },
  {
   "cell_type": "code",
   "execution_count": null,
   "metadata": {},
   "outputs": [],
   "source": [
    "len(X_train)"
   ]
  },
  {
   "cell_type": "code",
   "execution_count": null,
   "metadata": {},
   "outputs": [],
   "source": [
    "# Measurements use for graphing loss and accuracy\n",
    "log_epoch_step = 2\n",
    "epochs = []\n",
    "loss_epoch = []\n",
    "train_acc_epoch = []\n",
    "valid_acc_epoch = []\n",
    "\n",
    "with tf.Session() as sess:\n",
    "    sess.run(tf.global_variables_initializer())\n",
    "    num_examples = len(X_train)\n",
    "    batch_count = int(math.ceil(num_examples / BATCH_SIZE))\n",
    "    l = float('inf')\n",
    "    training_accuracy = 0\n",
    "    validation_accuracy = 0\n",
    "    \n",
    "    for i in range(EPOCHS):\n",
    "        X_train, y_train= shuffle(X_train, y_train)\n",
    "        # Progress bar\n",
    "        batches_pbar = tqdm(range(batch_count), desc='Epoch {:>2}/{}'.format(i+1, EPOCHS), unit='batches')\n",
    "        \n",
    "        for batch_i in batches_pbar:\n",
    "            offset = batch_i * BATCH_SIZE\n",
    "            end = offset + BATCH_SIZE\n",
    "            batch_x, batch_y = X_train[offset:end], y_train[offset:end]\n",
    "            _, l = sess.run([training_operation, loss_operation], feed_dict={x: batch_x, y: batch_y})\n",
    "            \n",
    "        # Log every log_epoch_step batches\n",
    "        if not i % log_epoch_step:\n",
    "            # Calculate Training and Validation accuracy\n",
    "            training_accuracy = evaluate(X_train, y_train)\n",
    "            validation_accuracy = evaluate(X_validation, y_validation)\n",
    "\n",
    "            # Log epochs\n",
    "            previous_epoch = epochs[-1] if epochs else 0\n",
    "            epochs.append(log_epoch_step + previous_epoch)\n",
    "            loss_epoch.append(l)\n",
    "            train_acc_epoch.append(training_accuracy)\n",
    "            valid_acc_epoch.append(validation_accuracy)\n",
    "\n",
    "            print(\"EPOCH {} ...\".format(i+1), flush=True)\n",
    "            #print(\"Loss = {:.3f}\".format(l), flush=True)\n",
    "            print(\"Training Accuracy = {:.3f}\".format(training_accuracy), flush=True)\n",
    "            print(\"Validation Accuracy = {:.3f}\".format(validation_accuracy), flush=True)\n",
    "            saver.save(sess, 'lenet', global_step=(i+1))\n",
    "            print(\"Model saved\", flush=True)        \n",
    "\n",
    "    training_accuracy = evaluate(X_train, y_train)\n",
    "    validation_accuracy = evaluate(X_validation, y_validation)\n",
    "    print(\"Training Accuracy = {:.3f}\".format(training_accuracy))\n",
    "    print(\"Validation Accuracy = {:.3f}\".format(validation_accuracy))\n",
    "    saver.save(sess, 'lenet')\n",
    "    print(\"Model saved\")"
   ]
  },
  {
   "cell_type": "code",
   "execution_count": null,
   "metadata": {},
   "outputs": [],
   "source": [
    "loss_plot = plt.subplot(211)\n",
    "loss_plot.set_title('Loss')\n",
    "loss_plot.plot(epochs, loss_epoch, 'g')\n",
    "loss_plot.set_ylim([0.0, 0.5])\n",
    "loss_plot.set_xlim([epochs[0], epochs[-1]])\n",
    "acc_plot = plt.subplot(212)\n",
    "acc_plot.set_title('Accuracy')\n",
    "acc_plot.plot(epochs, train_acc_epoch, 'r', label='Training Accuracy')\n",
    "acc_plot.plot(epochs, valid_acc_epoch, 'x', label='Validation Accuracy')\n",
    "acc_plot.set_ylim([0.8, 1.0])\n",
    "acc_plot.set_xlim([epochs[0], epochs[-1]])\n",
    "acc_plot.legend(loc=4)\n",
    "plt.tight_layout()\n",
    "plt.show()\n",
    "print(\"Training Accuracy = {:.3f}\".format(training_accuracy), flush=True)\n",
    "print(\"Validation Accuracy = {:.3f}\".format(validation_accuracy), flush=True)"
   ]
  },
  {
   "cell_type": "code",
   "execution_count": null,
   "metadata": {},
   "outputs": [],
   "source": [
    "loss_plot = plt.subplot(211)\n",
    "loss_plot.set_title('Loss')\n",
    "loss_plot.plot(epochs, loss_epoch, 'g')\n",
    "loss_plot.set_ylim([0.0, 0.5])\n",
    "loss_plot.set_xlim([epochs[0], epochs[-1]])\n",
    "acc_plot = plt.subplot(212)\n",
    "acc_plot.set_title('Accuracy')\n",
    "acc_plot.plot(epochs, train_acc_epoch, 'r', label='Training Accuracy')\n",
    "acc_plot.plot(epochs, valid_acc_epoch, 'x', label='Validation Accuracy')\n",
    "acc_plot.set_ylim([0.8, 1.0])\n",
    "acc_plot.set_xlim([epochs[0], epochs[-1]])\n",
    "acc_plot.legend(loc=4)\n",
    "plt.tight_layout()\n",
    "plt.show()\n",
    "print(\"Training Accuracy = {:.3f}\".format(training_accuracy), flush=True)\n",
    "print(\"Validation Accuracy = {:.3f}\".format(validation_accuracy), flush=True)"
   ]
  },
  {
   "cell_type": "markdown",
   "metadata": {},
   "source": [
    "### Question 4\n",
    "\n",
    "_How did you train your model? (Type of optimizer, batch size, epochs, hyperparameters, etc.)_\n"
   ]
  },
  {
   "cell_type": "markdown",
   "metadata": {},
   "source": [
    "**Answer:**"
   ]
  },
  {
   "cell_type": "markdown",
   "metadata": {},
   "source": [
    "### Question 5\n",
    "\n",
    "\n",
    "_What approach did you take in coming up with a solution to this problem? It may have been a process of trial and error, in which case, outline the steps you took to get to the final solution and why you chose those steps. Perhaps your solution involved an already well known implementation or architecture. In this case, discuss why you think this is suitable for the current problem._"
   ]
  },
  {
   "cell_type": "markdown",
   "metadata": {},
   "source": [
    "**Answer:**"
   ]
  },
  {
   "cell_type": "markdown",
   "metadata": {},
   "source": [
    "---\n",
    "\n",
    "## Step 3: Test a Model on New Images\n",
    "\n",
    "Take several pictures of traffic signs that you find on the web or around you (at least five), and run them through your classifier on your computer to produce example results. The classifier might not recognize some local signs but it could prove interesting nonetheless.\n",
    "\n",
    "You may find `signnames.csv` useful as it contains mappings from the class id (integer) to the actual sign name."
   ]
  },
  {
   "cell_type": "markdown",
   "metadata": {},
   "source": [
    "### Implementation\n",
    "\n",
    "Use the code cell (or multiple code cells, if necessary) to implement the first step of your project. Once you have completed your implementation and are satisfied with the results, be sure to thoroughly answer the questions that follow."
   ]
  },
  {
   "cell_type": "code",
   "execution_count": null,
   "metadata": {},
   "outputs": [],
   "source": [
    "### Load the images and plot them here.\n",
    "### Feel free to use as many code cells as needed.\n",
    "with tf.Session() as sess:\n",
    "    saver.restore(sess, tf.train.latest_checkpoint('.'))\n",
    "\n",
    "    test_accuracy = evaluate(X_test, y_test)\n",
    "    print(\"Test Accuracy = {:.3f}\".format(test_accuracy))"
   ]
  },
  {
   "cell_type": "markdown",
   "metadata": {},
   "source": [
    "### Before creating additional data"
   ]
  },
  {
   "cell_type": "code",
   "execution_count": null,
   "metadata": {},
   "outputs": [],
   "source": [
    "### Load the images and plot them here.\n",
    "### Feel free to use as many code cells as needed.\n",
    "with tf.Session() as sess:\n",
    "    saver.restore(sess, tf.train.latest_checkpoint('.'))\n",
    "\n",
    "    test_accuracy = evaluate(X_test, y_test)\n",
    "    print(\"Test Accuracy = {:.3f}\".format(test_accuracy))"
   ]
  },
  {
   "cell_type": "code",
   "execution_count": null,
   "metadata": {},
   "outputs": [],
   "source": [
    "### Load the images and plot them here.\n",
    "### Feel free to use as many code cells as needed.\n",
    "with tf.Session() as sess:\n",
    "    saver.restore(sess, './lenet-49')\n",
    "\n",
    "    test_accuracy = evaluate(X_test, y_test)\n",
    "    print(\"Test Accuracy = {:.3f}\".format(test_accuracy))"
   ]
  },
  {
   "cell_type": "code",
   "execution_count": null,
   "metadata": {},
   "outputs": [],
   "source": [
    "### Load the images and plot them here.\n",
    "### Feel free to use as many code cells as needed.\n",
    "with tf.Session() as sess:\n",
    "    saver.restore(sess, tf.train.latest_checkpoint('.'))\n",
    "\n",
    "    test_accuracy = evaluate(X_test, y_test)\n",
    "    print(\"Test Accuracy = {:.3f}\".format(test_accuracy))"
   ]
  },
  {
   "cell_type": "code",
   "execution_count": null,
   "metadata": {},
   "outputs": [],
   "source": [
    "from scipy.misc import imresize"
   ]
  },
  {
   "cell_type": "code",
   "execution_count": null,
   "metadata": {},
   "outputs": [],
   "source": [
    "dname = 'data/japan_signs/'\n",
    "name_sample = [f for f in os.listdir(dname) if f.endswith(\"jpg\")]\n",
    "X_sample = [plt.imread(os.path.join(dname, f)) for f in name_sample]\n",
    "X_tmp = []\n",
    "for i in X_sample:\n",
    "    X_tmp.append(imresize(i, (32, 32)))  # resize images to (32, 32, 3)\n",
    "X_sample = np.array(X_tmp)\n",
    "X_sample = normalize_image(X_sample)\n",
    "name_sample = np.array(name_sample)"
   ]
  },
  {
   "cell_type": "code",
   "execution_count": null,
   "metadata": {},
   "outputs": [],
   "source": [
    "X_sample.shape, name_sample.shape"
   ]
  },
  {
   "cell_type": "code",
   "execution_count": null,
   "metadata": {},
   "outputs": [],
   "source": [
    "n_cols = 4\n",
    "n_items = len(X_sample)\n",
    "n_rows = int(np.ceil(n_items / n_cols))\n",
    "f, axarr = plt.subplots(n_rows, n_cols, figsize=(10,5))\n",
    "for i in range(int(n_rows * n_cols)):\n",
    "    ax = axarr[i//n_cols][i%n_cols]\n",
    "    if i < n_items:\n",
    "            image = X_sample[i].squeeze()\n",
    "            ax.imshow(image)\n",
    "            ax.set_title(name_sample[i])\n",
    "            ax.axes.get_xaxis().set_visible(False)\n",
    "            ax.axes.get_yaxis().set_visible(False)\n",
    "    else:\n",
    "        ax.axis('off')"
   ]
  },
  {
   "cell_type": "markdown",
   "metadata": {},
   "source": [
    "### Question 6\n",
    "\n",
    "_Choose five candidate images of traffic signs and provide them in the report. Are there any particular qualities of the image(s) that might make classification difficult? It could be helpful to plot the images in the notebook._\n",
    "\n"
   ]
  },
  {
   "cell_type": "markdown",
   "metadata": {},
   "source": [
    "**Answer:**"
   ]
  },
  {
   "cell_type": "code",
   "execution_count": null,
   "metadata": {},
   "outputs": [],
   "source": [
    "### Run the predictions here.\n",
    "### Feel free to use as many code cells as needed."
   ]
  },
  {
   "cell_type": "code",
   "execution_count": null,
   "metadata": {},
   "outputs": [],
   "source": [
    "with tf.Session() as sess:\n",
    "    saver.restore(sess, tf.train.latest_checkpoint('.'))\n",
    "    sess = tf.get_default_session()\n",
    "    softmax1 = sess.run(tf.nn.softmax(logits), feed_dict={x: X_sample})\n",
    "    predictions = sess.run(tf.argmax(tf.nn.softmax(logits), 1), feed_dict={x: X_sample})"
   ]
  },
  {
   "cell_type": "code",
   "execution_count": null,
   "metadata": {},
   "outputs": [],
   "source": [
    "predictions"
   ]
  },
  {
   "cell_type": "code",
   "execution_count": null,
   "metadata": {},
   "outputs": [],
   "source": [
    "import pandas as pd\n",
    "file1 = 'signnames.csv'\n",
    "signnames = pd.read_csv(file1, index_col=0)"
   ]
  },
  {
   "cell_type": "code",
   "execution_count": null,
   "metadata": {},
   "outputs": [],
   "source": [
    "n_cols = 2\n",
    "n_items = len(X_sample)\n",
    "n_rows = int(np.ceil(n_items / n_cols))\n",
    "f, axarr = plt.subplots(n_rows, n_cols * 2, figsize=(11,13))\n",
    "for i in range(int(n_rows * n_cols)):\n",
    "    ax = axarr[i // n_cols][2*(i % n_cols)]\n",
    "    if i < n_items:\n",
    "        image = X_sample[i].squeeze()\n",
    "        ax.imshow(image)\n",
    "        title = \"Left: Local Sign (Japan)\\n\" + name_sample[i].split('.')[0]\n",
    "        ax.set_title(title)\n",
    "        ax.axes.get_xaxis().set_visible(False)\n",
    "        ax.axes.get_yaxis().set_visible(False)\n",
    "    else:\n",
    "        ax.axis('off')\n",
    "    ax = axarr[i // n_cols][2*(i % n_cols) + 1]\n",
    "    if i < n_items:\n",
    "        pred_index = predictions[i]\n",
    "        index = random.choice(np.where(y_train == pred_index)[0])  #pick random item from class i\n",
    "        image = X_train[index].squeeze()\n",
    "        ax.imshow(image)\n",
    "        title = \"Right: Predected (German)\\n\" + str(pred_index) + \":\"+ signnames.iloc[pred_index, 0]\n",
    "        ax.set_title(title)\n",
    "        ax.axes.get_xaxis().set_visible(False)\n",
    "        ax.axes.get_yaxis().set_visible(False)\n",
    "    else:\n",
    "        ax.axis('off')"
   ]
  },
  {
   "cell_type": "markdown",
   "metadata": {},
   "source": [
    "### Question 7\n",
    "\n",
    "_Is your model able to perform equally well on captured pictures when compared to testing on the dataset? The simplest way to do this check the accuracy of the predictions. For example, if the model predicted 1 out of 5 signs correctly, it's 20% accurate._\n",
    "\n",
    "_**NOTE:** You could check the accuracy manually by using `signnames.csv` (same directory). This file has a mapping from the class id (0-42) to the corresponding sign name. So, you could take the class id the model outputs, lookup the name in `signnames.csv` and see if it matches the sign from the image._\n"
   ]
  },
  {
   "cell_type": "markdown",
   "metadata": {},
   "source": [
    "**Answer:**"
   ]
  },
  {
   "cell_type": "code",
   "execution_count": null,
   "metadata": {},
   "outputs": [],
   "source": [
    "### Visualize the softmax probabilities here.\n",
    "### Feel free to use as many code cells as needed."
   ]
  },
  {
   "cell_type": "code",
   "execution_count": null,
   "metadata": {},
   "outputs": [],
   "source": [
    "with tf.Session() as sess:\n",
    "    saver.restore(sess, tf.train.latest_checkpoint('.'))\n",
    "    sess = tf.get_default_session()\n",
    "    softmax1 = sess.run(tf.nn.softmax(logits), feed_dict={x: X_sample})\n",
    "    res = sess.run(tf.nn.top_k(softmax1, k=3))"
   ]
  },
  {
   "cell_type": "code",
   "execution_count": null,
   "metadata": {},
   "outputs": [],
   "source": [
    "n_cols = k = 3\n",
    "n_items = len(X_sample)\n",
    "n_rows = n_items\n",
    "f, axarr = plt.subplots(n_rows * 2, n_cols, figsize=(15,50))\n",
    "for i in range(n_items):\n",
    "    for j in range(n_cols):\n",
    "        ax = axarr[2*i][j]\n",
    "        if j == 0:\n",
    "            image = X_sample[i].squeeze()\n",
    "            ax.imshow(image)\n",
    "            title = \"#{} Input: {} (Japan)\".format(i+1, name_sample[i].split('.')[0] )\n",
    "            ax.set_title(title)\n",
    "            ax.axes.get_xaxis().set_visible(False)\n",
    "            ax.axes.get_yaxis().set_visible(False)\n",
    "        else:\n",
    "            ax.axis('off')\n",
    "        ax = axarr[2*i +1][j]\n",
    "        pred_index = res.indices[i,j]\n",
    "        index = random.choice(np.where(y_train == pred_index)[0])  #pick random item from class i\n",
    "        image = X_train[index].squeeze()\n",
    "        ax.imshow(image)\n",
    "        title = \"#{} Prediction {}: {:.1f}%\\n {}: {}\".format(i+1, j+1, res.values[i,j] * 100, res.indices[i,j], signnames.iloc[res.indices[i,j], 0])\n",
    "        ax.set_title(title)\n",
    "        ax.axes.get_xaxis().set_visible(False)\n",
    "        ax.axes.get_yaxis().set_visible(False)"
   ]
  },
  {
   "cell_type": "markdown",
   "metadata": {},
   "source": [
    "### Question 8\n",
    "\n",
    "*Use the model's softmax probabilities to visualize the **certainty** of its predictions, [`tf.nn.top_k`](https://www.tensorflow.org/versions/r0.12/api_docs/python/nn.html#top_k) could prove helpful here. Which predictions is the model certain of? Uncertain? If the model was incorrect in its initial prediction, does the correct prediction appear in the top k? (k should be 5 at most)*\n",
    "\n",
    "`tf.nn.top_k` will return the values and indices (class ids) of the top k predictions. So if k=3, for each sign, it'll return the 3 largest probabilities (out of a possible 43) and the correspoding class ids.\n",
    "\n",
    "Take this numpy array as an example:\n",
    "\n",
    "```\n",
    "# (5, 6) array\n",
    "a = np.array([[ 0.24879643,  0.07032244,  0.12641572,  0.34763842,  0.07893497,\n",
    "         0.12789202],\n",
    "       [ 0.28086119,  0.27569815,  0.08594638,  0.0178669 ,  0.18063401,\n",
    "         0.15899337],\n",
    "       [ 0.26076848,  0.23664738,  0.08020603,  0.07001922,  0.1134371 ,\n",
    "         0.23892179],\n",
    "       [ 0.11943333,  0.29198961,  0.02605103,  0.26234032,  0.1351348 ,\n",
    "         0.16505091],\n",
    "       [ 0.09561176,  0.34396535,  0.0643941 ,  0.16240774,  0.24206137,\n",
    "         0.09155967]])\n",
    "```\n",
    "\n",
    "Running it through `sess.run(tf.nn.top_k(tf.constant(a), k=3))` produces:\n",
    "\n",
    "```\n",
    "TopKV2(values=array([[ 0.34763842,  0.24879643,  0.12789202],\n",
    "       [ 0.28086119,  0.27569815,  0.18063401],\n",
    "       [ 0.26076848,  0.23892179,  0.23664738],\n",
    "       [ 0.29198961,  0.26234032,  0.16505091],\n",
    "       [ 0.34396535,  0.24206137,  0.16240774]]), indices=array([[3, 0, 5],\n",
    "       [0, 1, 4],\n",
    "       [0, 5, 1],\n",
    "       [1, 3, 5],\n",
    "       [1, 4, 3]], dtype=int32))\n",
    "```\n",
    "\n",
    "Looking just at the first row we get `[ 0.34763842,  0.24879643,  0.12789202]`, you can confirm these are the 3 largest probabilities in `a`. You'll also notice `[3, 0, 5]` are the corresponding indices."
   ]
  },
  {
   "cell_type": "markdown",
   "metadata": {},
   "source": [
    "**Answer:**"
   ]
  },
  {
   "cell_type": "markdown",
   "metadata": {},
   "source": [
    "> **Note**: Once you have completed all of the code implementations and successfully answered each question above, you may finalize your work by exporting the iPython Notebook as an HTML document. You can do this by using the menu above and navigating to  \\n\",\n",
    "    \"**File -> Download as -> HTML (.html)**. Include the finished document along with this notebook as your submission."
   ]
  },
  {
   "cell_type": "code",
   "execution_count": null,
   "metadata": {},
   "outputs": [],
   "source": []
  }
 ],
 "metadata": {
  "anaconda-cloud": {},
  "kernelspec": {
   "display_name": "Python [default]",
   "language": "python",
   "name": "python3"
  },
  "language_info": {
   "codemirror_mode": {
    "name": "ipython",
    "version": 3
   },
   "file_extension": ".py",
   "mimetype": "text/x-python",
   "name": "python",
   "nbconvert_exporter": "python",
   "pygments_lexer": "ipython3"
  }
 },
 "nbformat": 4,
 "nbformat_minor": 1
}
